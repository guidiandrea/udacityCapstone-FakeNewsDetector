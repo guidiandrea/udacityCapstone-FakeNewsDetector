{
 "cells": [
  {
   "cell_type": "markdown",
   "metadata": {},
   "source": [
    "# Model Building"
   ]
  },
  {
   "cell_type": "markdown",
   "metadata": {},
   "source": [
    "## Import the necessary packages"
   ]
  },
  {
   "cell_type": "code",
   "execution_count": 1,
   "metadata": {},
   "outputs": [],
   "source": [
    "import pandas as pd\n",
    "import numpy as np \n",
    "import os \n",
    "\n"
   ]
  },
  {
   "cell_type": "markdown",
   "metadata": {},
   "source": [
    "### Packages to interact with AWS services"
   ]
  },
  {
   "cell_type": "code",
   "execution_count": 2,
   "metadata": {},
   "outputs": [],
   "source": [
    "from sagemaker.session import Session, get_execution_role\n",
    "\n",
    "sagemaker_session = Session()\n",
    "bucket = sagemaker_session.default_bucket()\n",
    "role = get_execution_role()"
   ]
  },
  {
   "cell_type": "code",
   "execution_count": 14,
   "metadata": {},
   "outputs": [
    {
     "name": "stdout",
     "output_type": "stream",
     "text": [
      "s3.ObjectSummary(bucket_name='sagemaker-eu-central-1-126514844793', key='sagemaker-scikit-learn-2020-04-11-20-42-43-911/source/sourcedir.tar.gz')\n",
      "s3.ObjectSummary(bucket_name='sagemaker-eu-central-1-126514844793', key='sagemaker-scikit-learn-2020-04-11-20-45-59-086/source/sourcedir.tar.gz')\n",
      "s3.ObjectSummary(bucket_name='sagemaker-eu-central-1-126514844793', key='sagemaker-scikit-learn-2020-04-11-20-48-12-454/source/sourcedir.tar.gz')\n",
      "s3.ObjectSummary(bucket_name='sagemaker-eu-central-1-126514844793', key='sagemaker-scikit-learn-2020-04-11-20-48-36-910/source/sourcedir.tar.gz')\n",
      "s3.ObjectSummary(bucket_name='sagemaker-eu-central-1-126514844793', key='sagemaker-scikit-learn-2020-04-11-20-49-08-681/source/sourcedir.tar.gz')\n",
      "s3.ObjectSummary(bucket_name='sagemaker-eu-central-1-126514844793', key='sagemaker-scikit-learn-2020-04-11-21-01-34-363/source/sourcedir.tar.gz')\n",
      "s3.ObjectSummary(bucket_name='sagemaker-eu-central-1-126514844793', key='sagemaker-scikit-learn-2020-04-11-21-02-14-545/debug-output/training_job_end.ts')\n",
      "s3.ObjectSummary(bucket_name='sagemaker-eu-central-1-126514844793', key='sagemaker-scikit-learn-2020-04-11-21-02-14-545/output/model.tar.gz')\n",
      "s3.ObjectSummary(bucket_name='sagemaker-eu-central-1-126514844793', key='sagemaker-scikit-learn-2020-04-11-21-02-14-545/source/sourcedir.tar.gz')\n",
      "s3.ObjectSummary(bucket_name='sagemaker-eu-central-1-126514844793', key='sagemaker-scikit-learn-2020-04-11-21-41-03-107/ready_data.csv.out')\n",
      "s3.ObjectSummary(bucket_name='sagemaker-eu-central-1-126514844793', key='sagemaker-scikit-learn-2020-04-12-10-28-44-759/source/sourcedir.tar.gz')\n",
      "s3.ObjectSummary(bucket_name='sagemaker-eu-central-1-126514844793', key='sagemaker-scikit-learn-2020-04-12-10-34-57-014/source/sourcedir.tar.gz')\n",
      "s3.ObjectSummary(bucket_name='sagemaker-eu-central-1-126514844793', key='sagemaker-scikit-learn-2020-04-12-10-46-17-025/source/sourcedir.tar.gz')\n",
      "s3.ObjectSummary(bucket_name='sagemaker-eu-central-1-126514844793', key='sagemaker-scikit-learn-2020-04-12-10-46-43-805/debug-output/training_job_end.ts')\n",
      "s3.ObjectSummary(bucket_name='sagemaker-eu-central-1-126514844793', key='sagemaker-scikit-learn-2020-04-12-10-46-43-805/output/model.tar.gz')\n",
      "s3.ObjectSummary(bucket_name='sagemaker-eu-central-1-126514844793', key='sagemaker-scikit-learn-2020-04-12-10-46-43-805/source/sourcedir.tar.gz')\n",
      "s3.ObjectSummary(bucket_name='sagemaker-eu-central-1-126514844793', key='sagemaker-scikit-learn-2020-04-12-10-58-04-050/vectorized_testdata.csv.out')\n",
      "s3.ObjectSummary(bucket_name='sagemaker-eu-central-1-126514844793', key='sagemaker-scikit-learn-2020-04-12-14-17-06-521/source/sourcedir.tar.gz')\n",
      "s3.ObjectSummary(bucket_name='sagemaker-eu-central-1-126514844793', key='sagemaker-scikit-learn-2020-04-12-14-22-06-627/debug-output/training_job_end.ts')\n",
      "s3.ObjectSummary(bucket_name='sagemaker-eu-central-1-126514844793', key='sagemaker-scikit-learn-2020-04-12-14-22-06-627/output/model.tar.gz')\n",
      "s3.ObjectSummary(bucket_name='sagemaker-eu-central-1-126514844793', key='sagemaker-scikit-learn-2020-04-12-14-22-06-627/source/sourcedir.tar.gz')\n",
      "s3.ObjectSummary(bucket_name='sagemaker-eu-central-1-126514844793', key='sagemaker-scikit-learn-2020-04-12-14-31-55-501/vectorized_testdata.csv.out')\n",
      "s3.ObjectSummary(bucket_name='sagemaker-eu-central-1-126514844793', key='udacityCapstone/data//cleaned_data.csv')\n",
      "s3.ObjectSummary(bucket_name='sagemaker-eu-central-1-126514844793', key='udacityCapstone/data/cleaned_data.csv')\n",
      "s3.ObjectSummary(bucket_name='sagemaker-eu-central-1-126514844793', key='udacityCapstone/data/cleaned_data_nostem.csv')\n",
      "s3.ObjectSummary(bucket_name='sagemaker-eu-central-1-126514844793', key='udacityCapstone/data/ready_data.csv')\n",
      "s3.ObjectSummary(bucket_name='sagemaker-eu-central-1-126514844793', key='udacityCapstone/data/vectorized_testdata.csv')\n",
      "s3.ObjectSummary(bucket_name='sagemaker-eu-central-1-126514844793', key='udacityCapstone/data/vectorized_traindata.csv')\n"
     ]
    }
   ],
   "source": [
    "import boto3\n",
    "\n",
    "s3 = boto3.resource('s3')\n",
    "for obj in s3.Bucket(bucket).objects.all():\n",
    "    print(obj)"
   ]
  },
  {
   "cell_type": "markdown",
   "metadata": {},
   "source": [
    "## Model Building"
   ]
  },
  {
   "cell_type": "markdown",
   "metadata": {},
   "source": [
    "## Naive Bayes "
   ]
  },
  {
   "cell_type": "code",
   "execution_count": 5,
   "metadata": {},
   "outputs": [],
   "source": [
    "from sagemaker.sklearn import SKLearn"
   ]
  },
  {
   "cell_type": "code",
   "execution_count": 6,
   "metadata": {},
   "outputs": [],
   "source": [
    "model = SKLearn(entry_point='train_sklearn_nb.py',\n",
    "                source_dir='source_train',\n",
    "                role=get_execution_role(),\n",
    "                train_instance_count=1,\n",
    "                train_instance_type='ml.m4.xlarge',\n",
    "                )"
   ]
  },
  {
   "cell_type": "code",
   "execution_count": 7,
   "metadata": {},
   "outputs": [],
   "source": [
    "key='udacityCapstone/data/vectorized_traindata.csv'\n",
    "train_path = f's3://{bucket}/{key}'\n",
    "\n",
    "input_channels = {\"train\":train_path }"
   ]
  },
  {
   "cell_type": "code",
   "execution_count": 9,
   "metadata": {},
   "outputs": [
    {
     "name": "stdout",
     "output_type": "stream",
     "text": [
      "2020-04-12 14:22:06 Starting - Starting the training job...\n",
      "2020-04-12 14:22:09 Starting - Launching requested ML instances...\n",
      "2020-04-12 14:23:02 Starting - Preparing the instances for training...\n",
      "2020-04-12 14:23:36 Downloading - Downloading input data...\n",
      "2020-04-12 14:24:06 Training - Downloading the training image...\n",
      "2020-04-12 14:24:25 Training - Training image download completed. Training in progress.\u001b[34m2020-04-12 14:24:26,082 sagemaker-containers INFO     Imported framework sagemaker_sklearn_container.training\u001b[0m\n",
      "\u001b[34m2020-04-12 14:24:26,085 sagemaker-containers INFO     No GPUs detected (normal if no gpus installed)\u001b[0m\n",
      "\u001b[34m2020-04-12 14:24:26,097 sagemaker_sklearn_container.training INFO     Invoking user training script.\u001b[0m\n",
      "\u001b[34m2020-04-12 14:24:26,335 sagemaker-containers INFO     Module train_sklearn_nb does not provide a setup.py. \u001b[0m\n",
      "\u001b[34mGenerating setup.py\u001b[0m\n",
      "\u001b[34m2020-04-12 14:24:26,336 sagemaker-containers INFO     Generating setup.cfg\u001b[0m\n",
      "\u001b[34m2020-04-12 14:24:26,336 sagemaker-containers INFO     Generating MANIFEST.in\u001b[0m\n",
      "\u001b[34m2020-04-12 14:24:26,336 sagemaker-containers INFO     Installing module with the following command:\u001b[0m\n",
      "\u001b[34m/miniconda3/bin/python -m pip install . \u001b[0m\n",
      "\u001b[34mProcessing /opt/ml/code\u001b[0m\n",
      "\u001b[34mBuilding wheels for collected packages: train-sklearn-nb\n",
      "  Building wheel for train-sklearn-nb (setup.py): started\n",
      "  Building wheel for train-sklearn-nb (setup.py): finished with status 'done'\n",
      "  Created wheel for train-sklearn-nb: filename=train_sklearn_nb-1.0.0-py2.py3-none-any.whl size=7468 sha256=a54b8aed04429dfde7580c2f7593040feefceeff01517f40b1f2aa04620aeb17\n",
      "  Stored in directory: /tmp/pip-ephem-wheel-cache-31qr640i/wheels/35/24/16/37574d11bf9bde50616c67372a334f94fa8356bc7164af8ca3\u001b[0m\n",
      "\u001b[34mSuccessfully built train-sklearn-nb\u001b[0m\n",
      "\u001b[34mInstalling collected packages: train-sklearn-nb\u001b[0m\n",
      "\u001b[34mSuccessfully installed train-sklearn-nb-1.0.0\u001b[0m\n",
      "\u001b[34m2020-04-12 14:24:27,682 sagemaker-containers INFO     No GPUs detected (normal if no gpus installed)\u001b[0m\n",
      "\u001b[34m2020-04-12 14:24:27,695 sagemaker-containers INFO     Invoking user script\n",
      "\u001b[0m\n",
      "\u001b[34mTraining Env:\n",
      "\u001b[0m\n",
      "\u001b[34m{\n",
      "    \"additional_framework_parameters\": {},\n",
      "    \"channel_input_dirs\": {\n",
      "        \"train\": \"/opt/ml/input/data/train\"\n",
      "    },\n",
      "    \"current_host\": \"algo-1\",\n",
      "    \"framework_module\": \"sagemaker_sklearn_container.training:main\",\n",
      "    \"hosts\": [\n",
      "        \"algo-1\"\n",
      "    ],\n",
      "    \"hyperparameters\": {},\n",
      "    \"input_config_dir\": \"/opt/ml/input/config\",\n",
      "    \"input_data_config\": {\n",
      "        \"train\": {\n",
      "            \"TrainingInputMode\": \"File\",\n",
      "            \"S3DistributionType\": \"FullyReplicated\",\n",
      "            \"RecordWrapperType\": \"None\"\n",
      "        }\n",
      "    },\n",
      "    \"input_dir\": \"/opt/ml/input\",\n",
      "    \"is_master\": true,\n",
      "    \"job_name\": \"sagemaker-scikit-learn-2020-04-12-14-22-06-627\",\n",
      "    \"log_level\": 20,\n",
      "    \"master_hostname\": \"algo-1\",\n",
      "    \"model_dir\": \"/opt/ml/model\",\n",
      "    \"module_dir\": \"s3://sagemaker-eu-central-1-126514844793/sagemaker-scikit-learn-2020-04-12-14-22-06-627/source/sourcedir.tar.gz\",\n",
      "    \"module_name\": \"train_sklearn_nb\",\n",
      "    \"network_interface_name\": \"eth0\",\n",
      "    \"num_cpus\": 4,\n",
      "    \"num_gpus\": 0,\n",
      "    \"output_data_dir\": \"/opt/ml/output/data\",\n",
      "    \"output_dir\": \"/opt/ml/output\",\n",
      "    \"output_intermediate_dir\": \"/opt/ml/output/intermediate\",\n",
      "    \"resource_config\": {\n",
      "        \"current_host\": \"algo-1\",\n",
      "        \"hosts\": [\n",
      "            \"algo-1\"\n",
      "        ],\n",
      "        \"network_interface_name\": \"eth0\"\n",
      "    },\n",
      "    \"user_entry_point\": \"train_sklearn_nb.py\"\u001b[0m\n",
      "\u001b[34m}\n",
      "\u001b[0m\n",
      "\u001b[34mEnvironment variables:\n",
      "\u001b[0m\n",
      "\u001b[34mSM_HOSTS=[\"algo-1\"]\u001b[0m\n",
      "\u001b[34mSM_NETWORK_INTERFACE_NAME=eth0\u001b[0m\n",
      "\u001b[34mSM_HPS={}\u001b[0m\n",
      "\u001b[34mSM_USER_ENTRY_POINT=train_sklearn_nb.py\u001b[0m\n",
      "\u001b[34mSM_FRAMEWORK_PARAMS={}\u001b[0m\n",
      "\u001b[34mSM_RESOURCE_CONFIG={\"current_host\":\"algo-1\",\"hosts\":[\"algo-1\"],\"network_interface_name\":\"eth0\"}\u001b[0m\n",
      "\u001b[34mSM_INPUT_DATA_CONFIG={\"train\":{\"RecordWrapperType\":\"None\",\"S3DistributionType\":\"FullyReplicated\",\"TrainingInputMode\":\"File\"}}\u001b[0m\n",
      "\u001b[34mSM_OUTPUT_DATA_DIR=/opt/ml/output/data\u001b[0m\n",
      "\u001b[34mSM_CHANNELS=[\"train\"]\u001b[0m\n",
      "\u001b[34mSM_CURRENT_HOST=algo-1\u001b[0m\n",
      "\u001b[34mSM_MODULE_NAME=train_sklearn_nb\u001b[0m\n",
      "\u001b[34mSM_LOG_LEVEL=20\u001b[0m\n",
      "\u001b[34mSM_FRAMEWORK_MODULE=sagemaker_sklearn_container.training:main\u001b[0m\n",
      "\u001b[34mSM_INPUT_DIR=/opt/ml/input\u001b[0m\n",
      "\u001b[34mSM_INPUT_CONFIG_DIR=/opt/ml/input/config\u001b[0m\n",
      "\u001b[34mSM_OUTPUT_DIR=/opt/ml/output\u001b[0m\n",
      "\u001b[34mSM_NUM_CPUS=4\u001b[0m\n",
      "\u001b[34mSM_NUM_GPUS=0\u001b[0m\n",
      "\u001b[34mSM_MODEL_DIR=/opt/ml/model\u001b[0m\n",
      "\u001b[34mSM_MODULE_DIR=s3://sagemaker-eu-central-1-126514844793/sagemaker-scikit-learn-2020-04-12-14-22-06-627/source/sourcedir.tar.gz\u001b[0m\n",
      "\u001b[34mSM_TRAINING_ENV={\"additional_framework_parameters\":{},\"channel_input_dirs\":{\"train\":\"/opt/ml/input/data/train\"},\"current_host\":\"algo-1\",\"framework_module\":\"sagemaker_sklearn_container.training:main\",\"hosts\":[\"algo-1\"],\"hyperparameters\":{},\"input_config_dir\":\"/opt/ml/input/config\",\"input_data_config\":{\"train\":{\"RecordWrapperType\":\"None\",\"S3DistributionType\":\"FullyReplicated\",\"TrainingInputMode\":\"File\"}},\"input_dir\":\"/opt/ml/input\",\"is_master\":true,\"job_name\":\"sagemaker-scikit-learn-2020-04-12-14-22-06-627\",\"log_level\":20,\"master_hostname\":\"algo-1\",\"model_dir\":\"/opt/ml/model\",\"module_dir\":\"s3://sagemaker-eu-central-1-126514844793/sagemaker-scikit-learn-2020-04-12-14-22-06-627/source/sourcedir.tar.gz\",\"module_name\":\"train_sklearn_nb\",\"network_interface_name\":\"eth0\",\"num_cpus\":4,\"num_gpus\":0,\"output_data_dir\":\"/opt/ml/output/data\",\"output_dir\":\"/opt/ml/output\",\"output_intermediate_dir\":\"/opt/ml/output/intermediate\",\"resource_config\":{\"current_host\":\"algo-1\",\"hosts\":[\"algo-1\"],\"network_interface_name\":\"eth0\"},\"user_entry_point\":\"train_sklearn_nb.py\"}\u001b[0m\n",
      "\u001b[34mSM_USER_ARGS=[]\u001b[0m\n",
      "\u001b[34mSM_OUTPUT_INTERMEDIATE_DIR=/opt/ml/output/intermediate\u001b[0m\n",
      "\u001b[34mSM_CHANNEL_TRAIN=/opt/ml/input/data/train\u001b[0m\n",
      "\u001b[34mPYTHONPATH=/miniconda3/bin:/miniconda3/lib/python37.zip:/miniconda3/lib/python3.7:/miniconda3/lib/python3.7/lib-dynload:/miniconda3/lib/python3.7/site-packages\n",
      "\u001b[0m\n",
      "\u001b[34mInvoking script with the following command:\n",
      "\u001b[0m\n",
      "\u001b[34m/miniconda3/bin/python -m train_sklearn_nb\n",
      "\n",
      "\u001b[0m\n",
      "\u001b[34m/miniconda3/lib/python3.7/site-packages/sklearn/externals/joblib/externals/cloudpickle/cloudpickle.py:47: DeprecationWarning: the imp module is deprecated in favour of importlib; see the module's documentation for alternative uses\n",
      "  import imp\u001b[0m\n",
      "\n",
      "2020-04-12 14:25:31 Uploading - Uploading generated training model\u001b[34m2020-04-12 14:25:28,313 sagemaker-containers INFO     Reporting training SUCCESS\u001b[0m\n",
      "\n",
      "2020-04-12 14:25:38 Completed - Training job completed\n",
      "Training seconds: 122\n",
      "Billable seconds: 122\n"
     ]
    }
   ],
   "source": [
    "model.fit(input_channels)"
   ]
  },
  {
   "cell_type": "code",
   "execution_count": 10,
   "metadata": {},
   "outputs": [
    {
     "name": "stdout",
     "output_type": "stream",
     "text": [
      "-----------!"
     ]
    }
   ],
   "source": [
    "predictor = model.deploy(initial_instance_count=1,\n",
    "                         instance_type='ml.c4.xlarge')"
   ]
  },
  {
   "cell_type": "code",
   "execution_count": 11,
   "metadata": {},
   "outputs": [],
   "source": [
    "## Run Batch transform for predictions"
   ]
  },
  {
   "cell_type": "code",
   "execution_count": 12,
   "metadata": {},
   "outputs": [],
   "source": [
    "test_path = 's3://sagemaker-eu-central-1-126514844793/udacityCapstone/data/vectorized_testdata.csv'"
   ]
  },
  {
   "cell_type": "code",
   "execution_count": 13,
   "metadata": {},
   "outputs": [
    {
     "name": "stderr",
     "output_type": "stream",
     "text": [
      "Using already existing model: sagemaker-scikit-learn-2020-04-12-14-22-06-627\n"
     ]
    },
    {
     "name": "stdout",
     "output_type": "stream",
     "text": [
      "...................\u001b[34mProcessing /opt/ml/code\u001b[0m\n",
      "\u001b[34mBuilding wheels for collected packages: train-sklearn-nb\n",
      "  Building wheel for train-sklearn-nb (setup.py): started\n",
      "  Building wheel for train-sklearn-nb (setup.py): finished with status 'done'\n",
      "  Created wheel for train-sklearn-nb: filename=train_sklearn_nb-1.0.0-py2.py3-none-any.whl size=7465 sha256=0b04b95dd70e46d84bd65bca0e949b3751e15023a62cbf1140d69b5050653a2e\n",
      "  Stored in directory: /tmp/pip-ephem-wheel-cache-w5_r_tft/wheels/35/24/16/37574d11bf9bde50616c67372a334f94fa8356bc7164af8ca3\u001b[0m\n",
      "\u001b[34mSuccessfully built train-sklearn-nb\u001b[0m\n",
      "\u001b[34mInstalling collected packages: train-sklearn-nb\u001b[0m\n",
      "\u001b[34mSuccessfully installed train-sklearn-nb-1.0.0\u001b[0m\n",
      "\u001b[34m/miniconda3/lib/python3.7/site-packages/sklearn/externals/joblib/externals/cloudpickle/cloudpickle.py:47: DeprecationWarning: the imp module is deprecated in favour of importlib; see the module's documentation for alternative uses\n",
      "  import imp\u001b[0m\n",
      "\u001b[34m[2020-04-12 14:34:57 +0000] [38] [INFO] Starting gunicorn 19.9.0\u001b[0m\n",
      "\u001b[34m[2020-04-12 14:34:57 +0000] [38] [INFO] Listening at: unix:/tmp/gunicorn.sock (38)\u001b[0m\n",
      "\u001b[34m[2020-04-12 14:34:57 +0000] [38] [INFO] Using worker: gevent\u001b[0m\n",
      "\u001b[34m[2020-04-12 14:34:57 +0000] [41] [INFO] Booting worker with pid: 41\u001b[0m\n",
      "\u001b[34m[2020-04-12 14:34:57 +0000] [42] [INFO] Booting worker with pid: 42\u001b[0m\n",
      "\u001b[34m[2020-04-12 14:34:57 +0000] [43] [INFO] Booting worker with pid: 43\u001b[0m\n",
      "\u001b[34m[2020-04-12 14:34:57 +0000] [44] [INFO] Booting worker with pid: 44\u001b[0m\n",
      "\u001b[34m2020-04-12 14:35:19,871 INFO - sagemaker-containers - No GPUs detected (normal if no gpus installed)\u001b[0m\n",
      "\u001b[34m/miniconda3/lib/python3.7/site-packages/sklearn/externals/joblib/externals/cloudpickle/cloudpickle.py:47: DeprecationWarning: the imp module is deprecated in favour of importlib; see the module's documentation for alternative uses\n",
      "  import imp\u001b[0m\n",
      "\u001b[34m169.254.255.130 - - [12/Apr/2020:14:35:20 +0000] \"GET /ping HTTP/1.1\" 200 0 \"-\" \"Go-http-client/1.1\"\u001b[0m\n",
      "\u001b[34m169.254.255.130 - - [12/Apr/2020:14:35:20 +0000] \"GET /execution-parameters HTTP/1.1\" 404 232 \"-\" \"Go-http-client/1.1\"\u001b[0m\n",
      "\u001b[34m2020-04-12 14:35:22,661 INFO - sagemaker-containers - No GPUs detected (normal if no gpus installed)\u001b[0m\n",
      "\u001b[34m/miniconda3/lib/python3.7/site-packages/sklearn/externals/joblib/externals/cloudpickle/cloudpickle.py:47: DeprecationWarning: the imp module is deprecated in favour of importlib; see the module's documentation for alternative uses\n",
      "  import imp\u001b[0m\n",
      "\u001b[32m2020-04-12T14:35:20.563:[sagemaker logs]: MaxConcurrentTransforms=1, MaxPayloadInMB=6, BatchStrategy=MULTI_RECORD\u001b[0m\n",
      "\u001b[34m169.254.255.130 - - [12/Apr/2020:14:35:24 +0000] \"POST /invocations HTTP/1.1\" 200 2200 \"-\" \"Go-http-client/1.1\"\u001b[0m\n",
      "\u001b[34m2020-04-12 14:35:24,822 INFO - sagemaker-containers - No GPUs detected (normal if no gpus installed)\u001b[0m\n",
      "\u001b[34m/miniconda3/lib/python3.7/site-packages/sklearn/externals/joblib/externals/cloudpickle/cloudpickle.py:47: DeprecationWarning: the imp module is deprecated in favour of importlib; see the module's documentation for alternative uses\n",
      "  import imp\u001b[0m\n",
      "\u001b[35m169.254.255.130 - - [12/Apr/2020:14:35:24 +0000] \"POST /invocations HTTP/1.1\" 200 2200 \"-\" \"Go-http-client/1.1\"\u001b[0m\n",
      "\u001b[35m2020-04-12 14:35:24,822 INFO - sagemaker-containers - No GPUs detected (normal if no gpus installed)\u001b[0m\n",
      "\u001b[35m/miniconda3/lib/python3.7/site-packages/sklearn/externals/joblib/externals/cloudpickle/cloudpickle.py:47: DeprecationWarning: the imp module is deprecated in favour of importlib; see the module's documentation for alternative uses\n",
      "  import imp\u001b[0m\n",
      "\u001b[34m169.254.255.130 - - [12/Apr/2020:14:35:26 +0000] \"POST /invocations HTTP/1.1\" 200 2196 \"-\" \"Go-http-client/1.1\"\u001b[0m\n",
      "\u001b[34m2020-04-12 14:35:26,890 INFO - sagemaker-containers - No GPUs detected (normal if no gpus installed)\u001b[0m\n",
      "\u001b[35m169.254.255.130 - - [12/Apr/2020:14:35:26 +0000] \"POST /invocations HTTP/1.1\" 200 2196 \"-\" \"Go-http-client/1.1\"\u001b[0m\n",
      "\u001b[35m2020-04-12 14:35:26,890 INFO - sagemaker-containers - No GPUs detected (normal if no gpus installed)\u001b[0m\n",
      "\u001b[34m/miniconda3/lib/python3.7/site-packages/sklearn/externals/joblib/externals/cloudpickle/cloudpickle.py:47: DeprecationWarning: the imp module is deprecated in favour of importlib; see the module's documentation for alternative uses\n",
      "  import imp\u001b[0m\n",
      "\u001b[35m/miniconda3/lib/python3.7/site-packages/sklearn/externals/joblib/externals/cloudpickle/cloudpickle.py:47: DeprecationWarning: the imp module is deprecated in favour of importlib; see the module's documentation for alternative uses\n",
      "  import imp\u001b[0m\n",
      "\u001b[34m169.254.255.130 - - [12/Apr/2020:14:35:28 +0000] \"POST /invocations HTTP/1.1\" 200 2196 \"-\" \"Go-http-client/1.1\"\u001b[0m\n",
      "\u001b[35m169.254.255.130 - - [12/Apr/2020:14:35:28 +0000] \"POST /invocations HTTP/1.1\" 200 2196 \"-\" \"Go-http-client/1.1\"\u001b[0m\n",
      "\u001b[34m169.254.255.130 - - [12/Apr/2020:14:35:30 +0000] \"POST /invocations HTTP/1.1\" 200 2200 \"-\" \"Go-http-client/1.1\"\u001b[0m\n",
      "\u001b[35m169.254.255.130 - - [12/Apr/2020:14:35:30 +0000] \"POST /invocations HTTP/1.1\" 200 2200 \"-\" \"Go-http-client/1.1\"\u001b[0m\n",
      "\u001b[34m169.254.255.130 - - [12/Apr/2020:14:35:31 +0000] \"POST /invocations HTTP/1.1\" 200 2200 \"-\" \"Go-http-client/1.1\"\u001b[0m\n",
      "\u001b[35m169.254.255.130 - - [12/Apr/2020:14:35:31 +0000] \"POST /invocations HTTP/1.1\" 200 2200 \"-\" \"Go-http-client/1.1\"\u001b[0m\n",
      "\u001b[34m169.254.255.130 - - [12/Apr/2020:14:35:33 +0000] \"POST /invocations HTTP/1.1\" 200 2200 \"-\" \"Go-http-client/1.1\"\u001b[0m\n",
      "\u001b[35m169.254.255.130 - - [12/Apr/2020:14:35:33 +0000] \"POST /invocations HTTP/1.1\" 200 2200 \"-\" \"Go-http-client/1.1\"\u001b[0m\n",
      "\u001b[34m169.254.255.130 - - [12/Apr/2020:14:35:36 +0000] \"POST /invocations HTTP/1.1\" 200 2196 \"-\" \"Go-http-client/1.1\"\u001b[0m\n",
      "\u001b[35m169.254.255.130 - - [12/Apr/2020:14:35:36 +0000] \"POST /invocations HTTP/1.1\" 200 2196 \"-\" \"Go-http-client/1.1\"\u001b[0m\n",
      "\u001b[34m169.254.255.130 - - [12/Apr/2020:14:35:37 +0000] \"POST /invocations HTTP/1.1\" 200 2196 \"-\" \"Go-http-client/1.1\"\u001b[0m\n",
      "\u001b[35m169.254.255.130 - - [12/Apr/2020:14:35:37 +0000] \"POST /invocations HTTP/1.1\" 200 2196 \"-\" \"Go-http-client/1.1\"\u001b[0m\n",
      "\u001b[34m169.254.255.130 - - [12/Apr/2020:14:35:39 +0000] \"POST /invocations HTTP/1.1\" 200 2200 \"-\" \"Go-http-client/1.1\"\u001b[0m\n",
      "\u001b[35m169.254.255.130 - - [12/Apr/2020:14:35:39 +0000] \"POST /invocations HTTP/1.1\" 200 2200 \"-\" \"Go-http-client/1.1\"\u001b[0m\n",
      "\u001b[34m169.254.255.130 - - [12/Apr/2020:14:35:40 +0000] \"POST /invocations HTTP/1.1\" 200 2196 \"-\" \"Go-http-client/1.1\"\u001b[0m\n",
      "\u001b[35m169.254.255.130 - - [12/Apr/2020:14:35:40 +0000] \"POST /invocations HTTP/1.1\" 200 2196 \"-\" \"Go-http-client/1.1\"\u001b[0m\n",
      "\u001b[34m169.254.255.130 - - [12/Apr/2020:14:35:42 +0000] \"POST /invocations HTTP/1.1\" 200 2196 \"-\" \"Go-http-client/1.1\"\u001b[0m\n",
      "\u001b[35m169.254.255.130 - - [12/Apr/2020:14:35:42 +0000] \"POST /invocations HTTP/1.1\" 200 2196 \"-\" \"Go-http-client/1.1\"\u001b[0m\n",
      "\u001b[34m169.254.255.130 - - [12/Apr/2020:14:35:43 +0000] \"POST /invocations HTTP/1.1\" 200 2200 \"-\" \"Go-http-client/1.1\"\u001b[0m\n",
      "\u001b[35m169.254.255.130 - - [12/Apr/2020:14:35:43 +0000] \"POST /invocations HTTP/1.1\" 200 2200 \"-\" \"Go-http-client/1.1\"\u001b[0m\n",
      "\u001b[34m169.254.255.130 - - [12/Apr/2020:14:35:46 +0000] \"POST /invocations HTTP/1.1\" 200 2196 \"-\" \"Go-http-client/1.1\"\u001b[0m\n",
      "\u001b[35m169.254.255.130 - - [12/Apr/2020:14:35:46 +0000] \"POST /invocations HTTP/1.1\" 200 2196 \"-\" \"Go-http-client/1.1\"\u001b[0m\n",
      "\u001b[34m169.254.255.130 - - [12/Apr/2020:14:35:48 +0000] \"POST /invocations HTTP/1.1\" 200 2196 \"-\" \"Go-http-client/1.1\"\u001b[0m\n",
      "\u001b[35m169.254.255.130 - - [12/Apr/2020:14:35:48 +0000] \"POST /invocations HTTP/1.1\" 200 2196 \"-\" \"Go-http-client/1.1\"\u001b[0m\n",
      "\u001b[34m169.254.255.130 - - [12/Apr/2020:14:35:49 +0000] \"POST /invocations HTTP/1.1\" 200 2200 \"-\" \"Go-http-client/1.1\"\u001b[0m\n",
      "\u001b[35m169.254.255.130 - - [12/Apr/2020:14:35:49 +0000] \"POST /invocations HTTP/1.1\" 200 2200 \"-\" \"Go-http-client/1.1\"\u001b[0m\n",
      "\u001b[34m169.254.255.130 - - [12/Apr/2020:14:35:53 +0000] \"POST /invocations HTTP/1.1\" 200 2200 \"-\" \"Go-http-client/1.1\"\u001b[0m\n",
      "\u001b[35m169.254.255.130 - - [12/Apr/2020:14:35:53 +0000] \"POST /invocations HTTP/1.1\" 200 2200 \"-\" \"Go-http-client/1.1\"\u001b[0m\n",
      "\u001b[34m169.254.255.130 - - [12/Apr/2020:14:35:54 +0000] \"POST /invocations HTTP/1.1\" 200 2200 \"-\" \"Go-http-client/1.1\"\u001b[0m\n",
      "\u001b[35m169.254.255.130 - - [12/Apr/2020:14:35:54 +0000] \"POST /invocations HTTP/1.1\" 200 2200 \"-\" \"Go-http-client/1.1\"\u001b[0m\n",
      "\u001b[34m169.254.255.130 - - [12/Apr/2020:14:35:56 +0000] \"POST /invocations HTTP/1.1\" 200 2200 \"-\" \"Go-http-client/1.1\"\u001b[0m\n",
      "\u001b[35m169.254.255.130 - - [12/Apr/2020:14:35:56 +0000] \"POST /invocations HTTP/1.1\" 200 2200 \"-\" \"Go-http-client/1.1\"\u001b[0m\n",
      "\u001b[34m169.254.255.130 - - [12/Apr/2020:14:35:57 +0000] \"POST /invocations HTTP/1.1\" 200 2196 \"-\" \"Go-http-client/1.1\"\u001b[0m\n",
      "\u001b[35m169.254.255.130 - - [12/Apr/2020:14:35:57 +0000] \"POST /invocations HTTP/1.1\" 200 2196 \"-\" \"Go-http-client/1.1\"\u001b[0m\n",
      "\u001b[34m169.254.255.130 - - [12/Apr/2020:14:35:59 +0000] \"POST /invocations HTTP/1.1\" 200 2196 \"-\" \"Go-http-client/1.1\"\u001b[0m\n",
      "\u001b[35m169.254.255.130 - - [12/Apr/2020:14:35:59 +0000] \"POST /invocations HTTP/1.1\" 200 2196 \"-\" \"Go-http-client/1.1\"\u001b[0m\n",
      "\u001b[34m169.254.255.130 - - [12/Apr/2020:14:36:00 +0000] \"POST /invocations HTTP/1.1\" 200 2200 \"-\" \"Go-http-client/1.1\"\u001b[0m\n",
      "\u001b[35m169.254.255.130 - - [12/Apr/2020:14:36:00 +0000] \"POST /invocations HTTP/1.1\" 200 2200 \"-\" \"Go-http-client/1.1\"\u001b[0m\n",
      "\u001b[34m169.254.255.130 - - [12/Apr/2020:14:36:01 +0000] \"POST /invocations HTTP/1.1\" 200 1100 \"-\" \"Go-http-client/1.1\"\u001b[0m\n",
      "\u001b[35m169.254.255.130 - - [12/Apr/2020:14:36:01 +0000] \"POST /invocations HTTP/1.1\" 200 1100 \"-\" \"Go-http-client/1.1\"\u001b[0m\n",
      "\n"
     ]
    }
   ],
   "source": [
    "nb_transformer = model.transformer(1, 'ml.m4.xlarge', assemble_with = 'Line', accept = 'text/csv')\n",
    "\n",
    "# start a transform job\n",
    "nb_transformer.transform(test_path, split_type='Line', content_type='text/csv', input_filter='$[1:]', join_source='Input', output_filter='$[-1]')\n",
    "nb_transformer.wait()"
   ]
  },
  {
   "cell_type": "code",
   "execution_count": 15,
   "metadata": {},
   "outputs": [],
   "source": [
    "preds = pd.read_csv(f\"s3://{nb_transformer.output_path}/vectorized_testdata.csv.out\", header=None)"
   ]
  },
  {
   "cell_type": "code",
   "execution_count": 16,
   "metadata": {},
   "outputs": [],
   "source": [
    "true_labels = pd.read_csv(\"s3://sagemaker-eu-central-1-126514844793/udacityCapstone/data/vectorized_testdata.csv\", usecols=[0], header=None)"
   ]
  },
  {
   "cell_type": "code",
   "execution_count": 17,
   "metadata": {},
   "outputs": [
    {
     "data": {
      "text/html": [
       "<div>\n",
       "<style scoped>\n",
       "    .dataframe tbody tr th:only-of-type {\n",
       "        vertical-align: middle;\n",
       "    }\n",
       "\n",
       "    .dataframe tbody tr th {\n",
       "        vertical-align: top;\n",
       "    }\n",
       "\n",
       "    .dataframe thead th {\n",
       "        text-align: right;\n",
       "    }\n",
       "</style>\n",
       "<table border=\"1\" class=\"dataframe\">\n",
       "  <thead>\n",
       "    <tr style=\"text-align: right;\">\n",
       "      <th></th>\n",
       "      <th>0</th>\n",
       "    </tr>\n",
       "  </thead>\n",
       "  <tbody>\n",
       "    <tr>\n",
       "      <th>0</th>\n",
       "      <td>0.0</td>\n",
       "    </tr>\n",
       "    <tr>\n",
       "      <th>1</th>\n",
       "      <td>1.0</td>\n",
       "    </tr>\n",
       "    <tr>\n",
       "      <th>2</th>\n",
       "      <td>0.0</td>\n",
       "    </tr>\n",
       "    <tr>\n",
       "      <th>3</th>\n",
       "      <td>1.0</td>\n",
       "    </tr>\n",
       "    <tr>\n",
       "      <th>4</th>\n",
       "      <td>1.0</td>\n",
       "    </tr>\n",
       "  </tbody>\n",
       "</table>\n",
       "</div>"
      ],
      "text/plain": [
       "     0\n",
       "0  0.0\n",
       "1  1.0\n",
       "2  0.0\n",
       "3  1.0\n",
       "4  1.0"
      ]
     },
     "execution_count": 17,
     "metadata": {},
     "output_type": "execute_result"
    }
   ],
   "source": [
    "true_labels.head()"
   ]
  },
  {
   "cell_type": "code",
   "execution_count": 18,
   "metadata": {},
   "outputs": [
    {
     "data": {
      "text/html": [
       "<div>\n",
       "<style scoped>\n",
       "    .dataframe tbody tr th:only-of-type {\n",
       "        vertical-align: middle;\n",
       "    }\n",
       "\n",
       "    .dataframe tbody tr th {\n",
       "        vertical-align: top;\n",
       "    }\n",
       "\n",
       "    .dataframe thead th {\n",
       "        text-align: right;\n",
       "    }\n",
       "</style>\n",
       "<table border=\"1\" class=\"dataframe\">\n",
       "  <thead>\n",
       "    <tr style=\"text-align: right;\">\n",
       "      <th></th>\n",
       "      <th>0</th>\n",
       "    </tr>\n",
       "  </thead>\n",
       "  <tbody>\n",
       "    <tr>\n",
       "      <th>0</th>\n",
       "      <td>0.0</td>\n",
       "    </tr>\n",
       "    <tr>\n",
       "      <th>1</th>\n",
       "      <td>1.0</td>\n",
       "    </tr>\n",
       "    <tr>\n",
       "      <th>2</th>\n",
       "      <td>1.0</td>\n",
       "    </tr>\n",
       "    <tr>\n",
       "      <th>3</th>\n",
       "      <td>0.0</td>\n",
       "    </tr>\n",
       "    <tr>\n",
       "      <th>4</th>\n",
       "      <td>1.0</td>\n",
       "    </tr>\n",
       "  </tbody>\n",
       "</table>\n",
       "</div>"
      ],
      "text/plain": [
       "     0\n",
       "0  0.0\n",
       "1  1.0\n",
       "2  1.0\n",
       "3  0.0\n",
       "4  1.0"
      ]
     },
     "execution_count": 18,
     "metadata": {},
     "output_type": "execute_result"
    }
   ],
   "source": [
    "preds.head()"
   ]
  },
  {
   "cell_type": "code",
   "execution_count": 27,
   "metadata": {},
   "outputs": [],
   "source": [
    "from sklearn.metrics import accuracy_score, f1_score, precision_score, recall_score"
   ]
  },
  {
   "cell_type": "code",
   "execution_count": 28,
   "metadata": {},
   "outputs": [
    {
     "data": {
      "text/plain": [
       "0.5739750445632799"
      ]
     },
     "execution_count": 28,
     "metadata": {},
     "output_type": "execute_result"
    }
   ],
   "source": [
    "accuracy_score(true_labels,preds)"
   ]
  },
  {
   "cell_type": "code",
   "execution_count": 29,
   "metadata": {},
   "outputs": [],
   "source": [
    "#This model did not perform as I wished. "
   ]
  },
  {
   "cell_type": "code",
   "execution_count": 31,
   "metadata": {},
   "outputs": [
    {
     "data": {
      "text/plain": [
       "0.5450284090909091"
      ]
     },
     "execution_count": 31,
     "metadata": {},
     "output_type": "execute_result"
    }
   ],
   "source": [
    "recall_score(true_labels,preds)"
   ]
  },
  {
   "cell_type": "code",
   "execution_count": null,
   "metadata": {},
   "outputs": [],
   "source": []
  }
 ],
 "metadata": {
  "kernelspec": {
   "display_name": "conda_python3",
   "language": "python",
   "name": "conda_python3"
  },
  "language_info": {
   "codemirror_mode": {
    "name": "ipython",
    "version": 3
   },
   "file_extension": ".py",
   "mimetype": "text/x-python",
   "name": "python",
   "nbconvert_exporter": "python",
   "pygments_lexer": "ipython3",
   "version": "3.6.5"
  }
 },
 "nbformat": 4,
 "nbformat_minor": 4
}
